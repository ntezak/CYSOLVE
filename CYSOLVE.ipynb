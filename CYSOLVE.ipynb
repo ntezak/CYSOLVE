{
 "metadata": {
  "name": "CYSOLVE"
 },
 "nbformat": 3,
 "nbformat_minor": 0,
 "worksheets": [
  {
   "cells": [
    {
     "cell_type": "heading",
     "level": 1,
     "metadata": {},
     "source": [
      "The CYSOLVE module"
     ]
    },
    {
     "cell_type": "heading",
     "level": 2,
     "metadata": {},
     "source": [
      "org-file todos"
     ]
    },
    {
     "cell_type": "code",
     "collapsed": false,
     "input": [
      "from IPython.display import HTML\n",
      "org_html = !github-markup CYSOLVE.org\n",
      "HTML(org_html.s)"
     ],
     "language": "python",
     "metadata": {},
     "outputs": [
      {
       "html": [
        "<p class=\"title\">CYSOLVE</p> <h1>Todo</h1> <h2>MAYBE Find out why CYSOLVE callback integrator is so slow</h2> <p>Captured on [2013-07-24 Wed 19:39] and at <a href=\"~/Projects/MBE/mbe/mbe_multi.pyx\">file:~/Projects/MBE/mbe/mbe_multi.pyx::with nogil:</a></p> <p>Tried running a profiler, but that doesn&#8217;t really work well because   of the usage of nogil functions.  Putting this on hold for now. My   best guess is that it has to do something with execution caching,   but that could be complete BS.</p> <h2>NEXT Test &#8216;cysolve.ODEs&#8217; class.</h2>"
       ],
       "output_type": "pyout",
       "prompt_number": 1,
       "text": [
        "<IPython.core.display.HTML at 0x10b58be90>"
       ]
      }
     ],
     "prompt_number": 1
    },
    {
     "cell_type": "heading",
     "level": 2,
     "metadata": {},
     "source": [
      "Initialization"
     ]
    },
    {
     "cell_type": "heading",
     "level": 3,
     "metadata": {},
     "source": [
      "Creating the directory"
     ]
    },
    {
     "cell_type": "code",
     "collapsed": false,
     "input": [
      "import os\n",
      "import sys\n",
      "if not os.path.exists('cysolve'):\n",
      "    os.mkdir('cysolve')\n",
      "else:\n",
      "    if not os.path.isdir('cysolve'):\n",
      "        raise Exception()\n",
      "    else:\n",
      "        print \"./cysolve exists, skipping creation\"\n"
     ],
     "language": "python",
     "metadata": {},
     "outputs": [
      {
       "output_type": "stream",
       "stream": "stdout",
       "text": [
        "./cysolve exists, skipping creation\n"
       ]
      }
     ],
     "prompt_number": 2
    },
    {
     "cell_type": "heading",
     "level": 3,
     "metadata": {},
     "source": [
      "The cysolve.ode module's pxd file"
     ]
    },
    {
     "cell_type": "code",
     "collapsed": false,
     "input": [
      "%%file cysolve/ode.pxd\n",
      "\n",
      "cimport numpy as np\n",
      "import numpy as np\n",
      "\n",
      "cdef inline int imin(int a, int b) nogil: \n",
      "    return a if a <= b else b\n",
      "cdef inline int imax(int a, int b) nogil: \n",
      "    return a if a >= b else b\n",
      "\n",
      "cdef inline void copy_array(double * from_p, double * to_p, int Np) nogil:\n",
      "    cdef int kk\n",
      "    for kk in range(Np):\n",
      "        to_p[kk] = from_p[kk]\n",
      "\n",
      "cdef int c_integrate_ode(double tf, int N, int dim, double y0[], double * Y, int (*ode)(double, double [], double [], void *) nogil, void * params, double t0=*) nogil\n",
      "\n",
      "cdef np.ndarray c_eval_ode(double t, np.ndarray[np.float64_t, ndim=1] y, void * params, int dim, int (*ode)(double, double [], double [], void *))\n",
      "\n",
      "cdef class ODE:\n",
      "    \n",
      "    cdef int (*c_ode)(double, double [], double [], void *) nogil\n",
      "    cdef void * c_params\n",
      "    cdef public int dim\n",
      "    cdef public double t\n",
      "    cdef public np.ndarray y\n",
      "    cdef int free_params_on_dealloc\n",
      "    cpdef np.ndarray integrate(self, double delta_t, int N, int include_initial=*, int update_state=*)\n",
      "    cpdef np.ndarray evaluate(self)\n",
      "\n",
      "cdef class ODEs:\n",
      "    \n",
      "    cdef int (*c_ode)(double, double [], double [], void *) nogil\n",
      "    cdef void * c_params\n",
      "    cdef int param_size\n",
      "    cdef int N_params\n",
      "    cdef public int dim\n",
      "    cdef public double t\n",
      "    cdef public np.ndarray y\n",
      "    cdef int free_params_on_dealloc\n",
      "    cpdef object integrate(self, double delta_t, int N, int include_initial=*, int update_state=*)\n",
      "    cpdef np.ndarray evaluate(self)\n"
     ],
     "language": "python",
     "metadata": {},
     "outputs": [
      {
       "output_type": "stream",
       "stream": "stdout",
       "text": [
        "Overwriting cysolve/ode.pxd\n"
       ]
      }
     ],
     "prompt_number": 3
    },
    {
     "cell_type": "heading",
     "level": 3,
     "metadata": {},
     "source": [
      "The cysolve.ode module's cython file"
     ]
    },
    {
     "cell_type": "code",
     "collapsed": false,
     "input": [
      "%%file cysolve/ode.pyx\n",
      "\n",
      "\n",
      "cimport cython\n",
      "cimport numpy as np\n",
      "import numpy as np\n",
      "\n",
      "\n",
      "from cython_gsl cimport (gsl_matrix_view, gsl_matrix_view_array, gsl_matrix, gsl_matrix_set, gsl_odeiv2_system,\n",
      "                            GSL_SUCCESS, gsl_odeiv2_driver, gsl_odeiv2_driver_alloc_y_new, gsl_odeiv2_driver_apply,\n",
      "                            gsl_odeiv2_driver_free, gsl_odeiv2_step_rk8pd, gsl_odeiv2_driver_apply_fixed_step,\n",
      "                            gsl_matrix_alloc, gsl_matrix_free\n",
      "                            )\n",
      "\n",
      "from libc.math cimport floor as mfloor, lround as mlround, sqrt, sin, cos\n",
      "from libc.stdlib cimport malloc, free\n",
      "from cython.parallel cimport prange\n",
      "\n",
      "\n",
      "@cython.cdivision(True)\n",
      "@cython.boundscheck(False)\n",
      "cdef int c_integrate_ode(double tf, int N, int dim, double y0[], double * Y, int (*ode)(double, double [], double [], void *) nogil, void * params, double t0 = 0.) nogil:\n",
      "    \"\"\"\n",
      "    Solve the ODE given by ode, with dimension dim, parametrized by params, in a given time interval [t0, tf] for an initial condition y0 and compute the state at N steps.\n",
      "    The result is stored in the array Y as [y_1[t0] ... y_dim[t0], y_2[t0 + dt], ..., y_dim[t0+dt],...].\n",
      "    \"\"\"\n",
      "    \n",
      "    # initialize GSL ode specification\n",
      "    cdef gsl_odeiv2_system sys\n",
      "    sys.function = ode\n",
      "    sys.dimension = dim\n",
      "    sys.params = params\n",
      "        \n",
      "    # initialize GSL ode driver\n",
      "    cdef gsl_odeiv2_driver * d = gsl_odeiv2_driver_alloc_y_new(\n",
      "        &sys, gsl_odeiv2_step_rk8pd, 1e-6, 1e-6, 0.0\n",
      "        )\n",
      "    \n",
      "    \n",
      "    cdef int kk, jj, status\n",
      "    cdef double t = t0\n",
      "    cdef double tkk, stepsize \n",
      "    cdef double * y = <double *> malloc(sys.dimension * sizeof(np.float64_t))\n",
      "    \n",
      "    # initialize current state\n",
      "    copy_array(y0, y, sys.dimension)\n",
      "\n",
      "    stepsize = (tf - t0) / N\n",
      "    \n",
      "    for kk in range(N):\n",
      "        \n",
      "        tkk = t0 + (kk + 1) * stepsize\n",
      "        # integrate over [t, tkk = t + stepsize]\n",
      "        status = gsl_odeiv2_driver_apply (d, &t, tkk, y)\n",
      "        \n",
      "        if (status != GSL_SUCCESS):\n",
      "            return status\n",
      "        \n",
      "        # store current state in output array\n",
      "        copy_array(y, &Y[sys.dimension * kk], sys.dimension)\n",
      "    \n",
      "    # free up resources\n",
      "    gsl_odeiv2_driver_free(d)\n",
      "    free(y)\n",
      "    return GSL_SUCCESS\n",
      "\n",
      "\n",
      "\n",
      "cdef np.ndarray c_eval_ode(double t, np.ndarray[np.float64_t, ndim=1] y, void * params, int dim, int (*ode)(double, double [], double [], void *)):\n",
      "    \"\"\"\n",
      "    Evaluate and return the ODE given by ode, with dimension dim, parametrized by params, at a given time t and state y.\n",
      "    \"\"\"\n",
      "    cdef np.ndarray ret = np.zeros(dim)\n",
      "    cdef double[::1] retView = ret\n",
      "    cdef double[::1] yView = y\n",
      "    ode(t, <double *> &yView[0], <double *> &retView[0], params)\n",
      "    return ret\n",
      "    \n",
      "cdef class ODE:\n",
      "\n",
      "    def __cinit__(self):\n",
      "        self.free_params_on_dealloc = 0\n",
      "\n",
      "    cpdef np.ndarray integrate(self, double delta_t, int N, int include_initial=0, int update_state=1):\n",
      "\n",
      "        cdef double[::1] YView\n",
      "        cdef double[::1] yview = self.y\n",
      "        cdef np.ndarray Y\n",
      "        cdef int success\n",
      "        \n",
      "        if include_initial:\n",
      "            Y = np.zeros((N + 1, self.dim))\n",
      "            Y[0] = self.y\n",
      "        else:\n",
      "            Y = np.zeros((N, self.dim))\n",
      "            \n",
      "        YView = Y[-N:].ravel()\n",
      "        success = c_integrate_ode(self.t + delta_t, N, self.dim, <double*>&yview[0], <double*>&YView[0], self.c_ode, self.c_params, self.t)\n",
      "        \n",
      "        if success == GSL_SUCCESS:\n",
      "            if update_state:\n",
      "                self.y = Y[-1]\n",
      "                self.t += delta_t\n",
      "            return Y\n",
      "        else:\n",
      "            raise Exception('Execution error')\n",
      "            \n",
      "    cpdef np.ndarray evaluate(self):\n",
      "        return c_eval_ode(self.t, self.y, self.c_params, self.dim, self.c_ode)\n",
      "        \n",
      "    def __dealloc__(self):\n",
      "        if self.free_params_on_dealloc:\n",
      "            free(self.c_params)\n",
      "\n",
      "            \n",
      "cdef class ODEs:\n",
      "\n",
      "    def __cinit__(self):\n",
      "        self.free_params_on_dealloc = 0\n",
      "        \n",
      "    @cython.boundscheck(False)\n",
      "    cpdef object integrate(self, double delta_t, int N, int include_initial=0, int update_state=1):\n",
      "\n",
      "        cdef double[::1] YView\n",
      "        cdef double[:,::1] yview = self.y\n",
      "        cdef np.ndarray Y\n",
      "        cdef int traj_index\n",
      "        cdef int strd\n",
      "        \n",
      "#        if include_initial:\n",
      "#            Y = np.zeros((self.N_params, N + 1, self.dim))\n",
      "#            Y[:,0,:] = self.y\n",
      "#        else:\n",
      "        Y = np.zeros((self.N_params, N, self.dim))\n",
      "        strd = N * self.dim\n",
      "        \n",
      "        YView = Y.ravel()\n",
      "        cdef:\n",
      "            double t = self.t\n",
      "            int (*c_ode)(double, double [], double [], void *) nogil\n",
      "            void * c_params = self.c_params\n",
      "            int param_size = self.param_size\n",
      "            int dim = self.dim\n",
      "            np.ndarray success = np.zeros(self.N_params, dtype=int)\n",
      "            long[:] successview = success\n",
      "            \n",
      "        c_ode = self.c_ode\n",
      "            \n",
      "        for traj_index in prange(self.N_params, nogil=True):\n",
      "            successview[traj_index] = c_integrate_ode(t + delta_t, N, dim, <double*>&yview[traj_index,0], <double*>&YView[traj_index * strd], c_ode, c_params + param_size * traj_index, t)\n",
      "        \n",
      "        if update_state:\n",
      "            self.y[success == GSL_SUCCESS] = Y[success == GSL_SUCCESS,-1, :]\n",
      "            self.t += delta_t\n",
      "            \n",
      "        if include_initial:\n",
      "            Y = np.concatenate((self.y.reshape(self.N_params, 1, -1), Y), axis=1)\n",
      "\n",
      "        return Y, success\n",
      "    \n",
      "    @cython.boundscheck(False)\n",
      "    cpdef np.ndarray evaluate(self):\n",
      "\n",
      "        cdef double[::1] YView\n",
      "        cdef double[:,::1] yview = self.y\n",
      "        cdef np.ndarray Y\n",
      "        cdef int traj_index\n",
      "        \n",
      "        Y = np.zeros((self.N_params, self.dim))\n",
      "        \n",
      "        YView = Y.ravel()\n",
      "        cdef:\n",
      "            double t = self.t\n",
      "            int (*c_ode)(double, double [], double [], void *) nogil\n",
      "            void * c_params = self.c_params\n",
      "            int param_size = self.param_size\n",
      "            int dim = self.dim\n",
      "        \n",
      "        c_ode = self.c_ode\n",
      "\n",
      "            \n",
      "        for traj_index in prange(self.N_params, nogil=True):\n",
      "            c_ode(t, <double*>&yview[traj_index,0], <double*>&YView[traj_index * dim], c_params + param_size * traj_index)\n",
      "        \n",
      "        return Y\n",
      "        \n",
      "    def __dealloc__(self):\n",
      "        if self.free_params_on_dealloc:\n",
      "            free(self.c_params)\n",
      "        "
     ],
     "language": "python",
     "metadata": {},
     "outputs": [
      {
       "output_type": "stream",
       "stream": "stdout",
       "text": [
        "Overwriting cysolve/ode.pyx\n"
       ]
      }
     ],
     "prompt_number": 4
    },
    {
     "cell_type": "heading",
     "level": 3,
     "metadata": {},
     "source": [
      "The cysolve.callback submodule"
     ]
    },
    {
     "cell_type": "code",
     "collapsed": false,
     "input": [
      "%%file cysolve/callback.pyx\n",
      "\n",
      "cimport cython\n",
      "from cython cimport view\n",
      "from cython_gsl cimport GSL_SUCCESS\n",
      "from cysolve.ode cimport ODE, copy_array\n",
      "\n",
      "\n",
      "cimport numpy as np\n",
      "import numpy as np\n",
      "\n",
      "from cpython cimport PyObject\n",
      "\n",
      "cdef struct CINFO:\n",
      "    int dim\n",
      "    PyObject * callback\n",
      "    \n",
      "    \n",
      "\n",
      "cdef view.array yview\n",
      "\n",
      "@cython.boundscheck(False)\n",
      "cdef int _callback_c_ode(double t, double y[], double f[], void * cinfo) nogil:\n",
      "    cdef CINFO p  = (<CINFO *> cinfo)[0]\n",
      "    cdef double[::1] retV\n",
      "    with gil:\n",
      "        yview = <double[:2]> y\n",
      "        retV = (<object> p.callback)(t, yview)\n",
      "    copy_array(<double *> &retV[0], f, p.dim)\n",
      "    return GSL_SUCCESS\n",
      "\n",
      "\n",
      "cdef class ODECallback(ODE):\n",
      "    \"\"\"\n",
      "    Use the cysolve.ode methods with an ode defined by a simple python function f(t, y).\n",
      "    \n",
      "    Instantiate as::\n",
      "        \n",
      "        ode = ODECallback(dim, y, callback, t=0.)\n",
      "    \n",
      "    Integrate::\n",
      "        \n",
      "        Yvals = ode.integrate(tf, Nsteps)\n",
      "\n",
      "    \"\"\"\n",
      "    \n",
      "    cdef public object callback\n",
      "    cdef CINFO cinfo\n",
      "    \n",
      "    def __cinit__(self, int dim, np.ndarray y, object callback, double t = 0.):\n",
      "       \n",
      "        self.dim = dim\n",
      "        self.y = y\n",
      "        self.t = t\n",
      "        \n",
      "        self.c_ode = _callback_c_ode\n",
      "        \n",
      "        # this ensures that the callback object\n",
      "        # as well as the CINFO object are not garbage-collected\n",
      "        self.cinfo.dim = dim\n",
      "        self.cinfo.callback = <PyObject*> callback\n",
      "        self.callback = callback\n",
      "\n",
      "        self.c_params = <void*> &self.cinfo\n",
      "        \n",
      "        \n",
      "\n"
     ],
     "language": "python",
     "metadata": {},
     "outputs": [
      {
       "output_type": "stream",
       "stream": "stdout",
       "text": [
        "Overwriting cysolve/callback.pyx\n"
       ]
      }
     ],
     "prompt_number": 5
    },
    {
     "cell_type": "heading",
     "level": 3,
     "metadata": {},
     "source": [
      "The cysolve module's __init__.py file"
     ]
    },
    {
     "cell_type": "code",
     "collapsed": false,
     "input": [
      "%%file cysolve/__init__.py\n",
      "\n",
      "\"\"\"\n",
      "The cysolve module comes with the following submodules:\n",
      "\n",
      "1) cysolve.ode:\n",
      "    This provides mechanisms to efficiently solve (in parallel) a given ode for many parametersets.\n",
      "\n",
      "\"\"\"\n"
     ],
     "language": "python",
     "metadata": {},
     "outputs": [
      {
       "output_type": "stream",
       "stream": "stdout",
       "text": [
        "Overwriting cysolve/__init__.py\n"
       ]
      }
     ],
     "prompt_number": 6
    },
    {
     "cell_type": "heading",
     "level": 3,
     "metadata": {},
     "source": [
      "The setup file"
     ]
    },
    {
     "cell_type": "code",
     "collapsed": false,
     "input": [
      "%%file setup.py\n",
      "\n",
      "from distutils.core import setup\n",
      "from distutils.extension import Extension\n",
      "from Cython.Distutils import build_ext\n",
      "import numpy as np\n",
      "import cython_gsl\n",
      "\n",
      "ext_modules = [\n",
      "    Extension(\"cysolve.ode\",\n",
      "              [\"cysolve/ode.pyx\"],\n",
      "              include_dirs=[np.get_include()],\n",
      "              libraries=cython_gsl.get_libraries(),\n",
      "              extra_compile_args=['-fopenmp'],\n",
      "              extra_link_args=['-fopenmp']\n",
      "              ),\n",
      "    Extension(\"cysolve.callback\",\n",
      "              [\"cysolve/callback.pyx\"],\n",
      "              include_dirs=[np.get_include()],\n",
      "              libraries=cython_gsl.get_libraries(),\n",
      "#              extra_compile_args=['-fopenmp'],\n",
      "#              extra_link_args=['-fopenmp']\n",
      "              ),\n",
      "\n",
      "]\n",
      "\n",
      "setup(\n",
      "    name='CYSOLVE',\n",
      "    cmdclass={'build_ext': build_ext},\n",
      "    ext_modules=ext_modules\n",
      ")"
     ],
     "language": "python",
     "metadata": {},
     "outputs": [
      {
       "output_type": "stream",
       "stream": "stdout",
       "text": [
        "Overwriting setup.py\n"
       ]
      }
     ],
     "prompt_number": 7
    },
    {
     "cell_type": "heading",
     "level": 3,
     "metadata": {},
     "source": [
      "Compiling the module"
     ]
    },
    {
     "cell_type": "code",
     "collapsed": false,
     "input": [
      "!python setup.py build_ext --inplace\n"
     ],
     "language": "python",
     "metadata": {},
     "outputs": [
      {
       "output_type": "stream",
       "stream": "stdout",
       "text": [
        "running build_ext\r\n",
        "cythoning cysolve/ode.pyx to cysolve/ode.c\r\n"
       ]
      },
      {
       "output_type": "stream",
       "stream": "stdout",
       "text": [
        "building 'cysolve.ode' extension\r\n",
        "gcc -fno-strict-aliasing -fno-common -dynamic -arch x86_64 -DNDEBUG -g -O3 -arch x86_64 -I/Users/nikolas/Library/Enthought/Canopy_64bit/User/lib/python2.7/site-packages/numpy/core/include -I/Applications/Canopy.app/appdata/canopy-1.0.0.1160.macosx-x86_64/Canopy.app/Contents/include/python2.7 -c cysolve/ode.c -o build/temp.macosx-10.6-x86_64-2.7/cysolve/ode.o -fopenmp\r\n",
        "In file included from /Users/nikolas/Library/Enthought/Canopy_64bit/User/lib/python2.7/site-packages/numpy/core/include/numpy/ndarraytypes.h:1728,\r\n",
        "                 from /Users/nikolas/Library/Enthought/Canopy_64bit/User/lib/python2.7/site-packages/numpy/core/include/numpy/ndarrayobject.h:17,\r\n",
        "                 from /Users/nikolas/Library/Enthought/Canopy_64bit/User/lib/python2.7/site-packages/numpy/core/include/numpy/arrayobject.h:15,\r\n",
        "                 from cysolve/ode.c:314:\r\n",
        "/Users/nikolas/Library/Enthought/Canopy_64bit/User/lib/python2.7/site-packages/numpy/core/include/numpy/npy_deprecated_api.h:11:2: warning: #warning \"Using deprecated NumPy API, disable it by #defining NPY_NO_DEPRECATED_API NPY_1_7_API_VERSION\"\r\n"
       ]
      },
      {
       "output_type": "stream",
       "stream": "stdout",
       "text": [
        "cysolve/ode.c: In function \u2018__pyx_f_7cysolve_3ode_c_integrate_ode\u2019:\r\n",
        "cysolve/ode.c:2211: warning: assignment from incompatible pointer type\r\n"
       ]
      },
      {
       "output_type": "stream",
       "stream": "stdout",
       "text": [
        "gcc -bundle -undefined dynamic_lookup -g -arch x86_64 -headerpad_max_install_names -arch x86_64 build/temp.macosx-10.6-x86_64-2.7/cysolve/ode.o -lgsl -lgslcblas -o /Users/nikolas/Projects/CYSOLVE/cysolve/ode.so -fopenmp\r\n"
       ]
      },
      {
       "output_type": "stream",
       "stream": "stdout",
       "text": [
        "cythoning cysolve/callback.pyx to cysolve/callback.c\r\n"
       ]
      },
      {
       "output_type": "stream",
       "stream": "stdout",
       "text": [
        "building 'cysolve.callback' extension\r\n",
        "gcc -fno-strict-aliasing -fno-common -dynamic -arch x86_64 -DNDEBUG -g -O3 -arch x86_64 -I/Users/nikolas/Library/Enthought/Canopy_64bit/User/lib/python2.7/site-packages/numpy/core/include -I/Applications/Canopy.app/appdata/canopy-1.0.0.1160.macosx-x86_64/Canopy.app/Contents/include/python2.7 -c cysolve/callback.c -o build/temp.macosx-10.6-x86_64-2.7/cysolve/callback.o\r\n"
       ]
      },
      {
       "output_type": "stream",
       "stream": "stdout",
       "text": [
        "In file included from /Users/nikolas/Library/Enthought/Canopy_64bit/User/lib/python2.7/site-packages/numpy/core/include/numpy/ndarraytypes.h:1728,\r\n",
        "                 from /Users/nikolas/Library/Enthought/Canopy_64bit/User/lib/python2.7/site-packages/numpy/core/include/numpy/ndarrayobject.h:17,\r\n",
        "                 from /Users/nikolas/Library/Enthought/Canopy_64bit/User/lib/python2.7/site-packages/numpy/core/include/numpy/arrayobject.h:15,\r\n",
        "                 from cysolve/callback.c:395:\r\n",
        "/Users/nikolas/Library/Enthought/Canopy_64bit/User/lib/python2.7/site-packages/numpy/core/include/numpy/npy_deprecated_api.h:11:2: warning: #warning \"Using deprecated NumPy API, disable it by #defining NPY_NO_DEPRECATED_API NPY_1_7_API_VERSION\"\r\n"
       ]
      },
      {
       "output_type": "stream",
       "stream": "stdout",
       "text": [
        "gcc -bundle -undefined dynamic_lookup -g -arch x86_64 -headerpad_max_install_names -arch x86_64 build/temp.macosx-10.6-x86_64-2.7/cysolve/callback.o -lgsl -lgslcblas -o /Users/nikolas/Projects/CYSOLVE/cysolve/callback.so\r\n"
       ]
      }
     ],
     "prompt_number": 8
    },
    {
     "cell_type": "heading",
     "level": 2,
     "metadata": {},
     "source": [
      "Examples"
     ]
    },
    {
     "cell_type": "heading",
     "level": 3,
     "metadata": {},
     "source": [
      "CYTHON: A simple harmonic oscillator"
     ]
    },
    {
     "cell_type": "code",
     "collapsed": false,
     "input": [
      "%load_ext cythonmagic"
     ],
     "language": "python",
     "metadata": {},
     "outputs": [],
     "prompt_number": 9
    },
    {
     "cell_type": "code",
     "collapsed": false,
     "input": [
      "%%cython\n",
      "\n",
      "from cysolve.ode cimport ODE, ODEs\n",
      "from libc.stdlib cimport malloc, free\n",
      "\n",
      "cimport cython\n",
      "\n",
      "from cython_gsl cimport GSL_SUCCESS\n",
      "\n",
      "import numpy as np\n",
      "cimport numpy as np\n",
      "\n",
      "cdef struct OSC_PARAMS:\n",
      "    double omega\n",
      "\n",
      "cdef int oscillation(double t, double y[], double f[], void * params) nogil:\n",
      "    cdef OSC_PARAMS p  = (<OSC_PARAMS *> params)[0]\n",
      "    f[0] = p.omega * y[1]\n",
      "    f[1] = -p.omega * y[0]\n",
      "    return GSL_SUCCESS\n",
      "\n",
      "def oscillator(np.ndarray y = np.array([1.,0]), double omega = 1.):\n",
      "    cdef OSC_PARAMS * oparams = (<OSC_PARAMS*> malloc(sizeof(OSC_PARAMS)))\n",
      "    oparams[0].omega = omega\n",
      "    ode = ODE()\n",
      "    ode.t = 0\n",
      "    ode.y = y\n",
      "    ode.dim = 2\n",
      "    ode.c_ode = oscillation\n",
      "    ode.c_params = <void*> oparams\n",
      "    ode.free_params_on_dealloc = 1\n",
      "    return ode\n",
      "   \n",
      "    \n",
      "cdef class Oscillator(ODE):\n",
      "    \n",
      "    cdef OSC_PARAMS oparams\n",
      "    \n",
      "    cpdef double omega(self):\n",
      "        return self.oparams.omega\n",
      "    \n",
      "    cpdef set_omega(self, double omega):\n",
      "        self.oparams.omega = omega\n",
      "   \n",
      "    def __cinit__(self, np.ndarray y = np.array([1.,0]), double omega = 1.):\n",
      "        self.dim = 2\n",
      "        self.t = 0.\n",
      "        self.y = y\n",
      "        self.c_ode = oscillation\n",
      "        self.set_omega(omega)\n",
      "        self.c_params = <void*> &self.oparams\n",
      "        \n",
      "        \n",
      "cdef class Oscillators(ODEs):\n",
      "    \n",
      "    cdef OSC_PARAMS[::1] oparams\n",
      "    \n",
      "    cpdef np.ndarray omegas(self):\n",
      "        return np.array([op.omega for op in self.oparams])\n",
      "    \n",
      "    cpdef set_omegas(self, np.ndarray omegas):\n",
      "        self.oparams = <OSC_PARAMS[:omegas.shape[0]]> malloc(omegas.shape[0] * sizeof(OSC_PARAMS))\n",
      "#        cython.view.array(shape=(omegas.shape[0],), itemsize=sizeof(OSC_PARAMS))\n",
      "        cdef int j\n",
      "        for j in range(omegas.shape[0]):\n",
      "            self.oparams[j].omega = omegas[j]\n",
      "   \n",
      "    def __cinit__(self, np.ndarray y, np.ndarray omegas):\n",
      "        self.dim = 2\n",
      "        self.t = 0.\n",
      "        self.c_ode = oscillation\n",
      "        self.param_size = sizeof(OSC_PARAMS)\n",
      "        self.set_omegas(omegas)\n",
      "        self.N_params = omegas.shape[0]\n",
      "        self.c_params = <void*> &self.oparams[0]\n",
      "        cdef int jj\n",
      "        if y.ndim == 2:\n",
      "            self.y = y\n",
      "        else:\n",
      "            self.y = np.array([y for jj in range(self.N_params)])\n"
     ],
     "language": "python",
     "metadata": {},
     "outputs": [],
     "prompt_number": 10
    },
    {
     "cell_type": "heading",
     "level": 3,
     "metadata": {},
     "source": [
      "Special ODE sub-extension type"
     ]
    },
    {
     "cell_type": "code",
     "collapsed": false,
     "input": [
      "ode1 = Oscillator()\n",
      "%timeit ode1.integrate(10., 100, update_state=0)\n",
      "%timeit ode1.evaluate()"
     ],
     "language": "python",
     "metadata": {},
     "outputs": [
      {
       "output_type": "stream",
       "stream": "stdout",
       "text": [
        "10000 loops, best of 3: 44.3 us per loop"
       ]
      },
      {
       "output_type": "stream",
       "stream": "stdout",
       "text": [
        "\n",
        "100000 loops, best of 3: 5.33 us per loop"
       ]
      },
      {
       "output_type": "stream",
       "stream": "stdout",
       "text": [
        "\n"
       ]
      }
     ],
     "prompt_number": 11
    },
    {
     "cell_type": "heading",
     "level": 3,
     "metadata": {},
     "source": [
      "ODE extension type"
     ]
    },
    {
     "cell_type": "code",
     "collapsed": false,
     "input": [
      "ode2 = oscillator()\n",
      "%timeit ode2.integrate(10., 100, update_state=0)\n",
      "%timeit ode2.evaluate()"
     ],
     "language": "python",
     "metadata": {},
     "outputs": [
      {
       "output_type": "stream",
       "stream": "stdout",
       "text": [
        "10000 loops, best of 3: 44.2 us per loop\n",
        "100000 loops, best of 3: 5.34 us per loop"
       ]
      },
      {
       "output_type": "stream",
       "stream": "stdout",
       "text": [
        "\n"
       ]
      }
     ],
     "prompt_number": 12
    },
    {
     "cell_type": "heading",
     "level": 3,
     "metadata": {},
     "source": [
      "ODEs sub-extension type"
     ]
    },
    {
     "cell_type": "code",
     "collapsed": false,
     "input": [
      "y0 = np.array([1.,0])\n",
      "omegas = 1. + randn(10) * .01\n",
      "ode1 = Oscillators(y0, omegas)\n",
      "%timeit ode1.integrate(10., 100, update_state=0)\n",
      "%timeit ode1.evaluate()"
     ],
     "language": "python",
     "metadata": {},
     "outputs": [
      {
       "output_type": "stream",
       "stream": "stdout",
       "text": [
        "1000 loops, best of 3: 264 us per loop\n",
        "10000 loops, best of 3: 74.4 us per loop"
       ]
      },
      {
       "output_type": "stream",
       "stream": "stdout",
       "text": [
        "\n"
       ]
      }
     ],
     "prompt_number": 13
    },
    {
     "cell_type": "heading",
     "level": 3,
     "metadata": {},
     "source": [
      "Python callback example"
     ]
    },
    {
     "cell_type": "code",
     "collapsed": false,
     "input": [
      "y0 = np.array([1.,0])\n",
      "f = lambda t, y: np.array([y[1], -y[0]])\n",
      "from cysolve.callback import ODECallback\n",
      "ode3 = ODECallback(2, y0, f)\n",
      "%timeit ode3.integrate(10., 100, update_state=0)\n",
      "%timeit ode3.evaluate()"
     ],
     "language": "python",
     "metadata": {},
     "outputs": [
      {
       "output_type": "stream",
       "stream": "stdout",
       "text": [
        "10 loops, best of 3: 36.2 ms per loop\n",
        "10000 loops, best of 3: 31.1 us per loop"
       ]
      },
      {
       "output_type": "stream",
       "stream": "stdout",
       "text": [
        "\n"
       ]
      }
     ],
     "prompt_number": 14
    }
   ],
   "metadata": {}
  }
 ]
}